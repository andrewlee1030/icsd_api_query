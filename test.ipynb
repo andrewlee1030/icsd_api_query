{
 "cells": [
  {
   "cell_type": "code",
   "execution_count": 2,
   "metadata": {},
   "outputs": [
    {
     "name": "stdout",
     "output_type": "stream",
     "text": [
      "Successfully generated new authentication token...\n",
      "Set custom array of collection codes successfully.\n",
      "There are 1 sublists to download.\n",
      "Downloading sublist 0.\n",
      "Invalid id number(s) detected - attempting to continue, check error output for bad id numbers.\n",
      "Invalid id number(s) detected - attempting to continue, check error output for bad id numbers.\n",
      "Invalid id number(s) detected - attempting to continue, check error output for bad id numbers.\n",
      "Invalid id number(s) detected - attempting to continue, check error output for bad id numbers.\n",
      "Download successful.\n",
      "Download successful.\n",
      "Invalid id number(s) detected - attempting to continue, check error output for bad id numbers.\n",
      "Invalid id number(s) detected - attempting to continue, check error output for bad id numbers.\n",
      "Download successful.\n",
      "Invalid id number(s) detected - attempting to continue, check error output for bad id numbers.\n",
      "Download successful.\n",
      "Logout sucessful.\n"
     ]
    }
   ],
   "source": [
    "from icsd_query import *\n",
    "\n",
    "icsd = icsd_swagger(loginid = 'AVV9002332',password = 'icsd379')\n",
    "custom_codes = ['0','1','2','3','-1','36669']\n",
    "icsd.custom_coll_codes(custom_codes)\n",
    "icsd.download_cifs()\n",
    "icsd.unzip_downloads()\n",
    "icsd.logout()"
   ]
  },
  {
   "cell_type": "code",
   "execution_count": null,
   "metadata": {},
   "outputs": [],
   "source": []
  }
 ],
 "metadata": {
  "kernelspec": {
   "display_name": "Python 3.9.7 ('base')",
   "language": "python",
   "name": "python3"
  },
  "language_info": {
   "codemirror_mode": {
    "name": "ipython",
    "version": 3
   },
   "file_extension": ".py",
   "mimetype": "text/x-python",
   "name": "python",
   "nbconvert_exporter": "python",
   "pygments_lexer": "ipython3",
   "version": "3.9.7"
  },
  "orig_nbformat": 4,
  "vscode": {
   "interpreter": {
    "hash": "2a2ce6feceabe16081239645c3ccff6386a8ef75e380f6aa10f5bd5dbcbdf266"
   }
  }
 },
 "nbformat": 4,
 "nbformat_minor": 2
}
